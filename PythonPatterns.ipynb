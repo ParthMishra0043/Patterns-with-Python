{
 "cells": [
  {
   "cell_type": "code",
   "execution_count": 1,
   "metadata": {},
   "outputs": [
    {
     "name": "stdout",
     "output_type": "stream",
     "text": [
      "5\n",
      "1\n",
      "23\n",
      "345\n",
      "4567\n",
      "56789\n"
     ]
    }
   ],
   "source": [
    "n = int(input())\n",
    "i = 1\n",
    "while i <= n:\n",
    "    j = 1 \n",
    "    p = i\n",
    "    while j <= i:\n",
    "        print(p, end = \"\")\n",
    "        j = j+1\n",
    "        p = p+1\n",
    "    print()\n",
    "    i = i + 1"
   ]
  },
  {
   "cell_type": "code",
   "execution_count": null,
   "metadata": {},
   "outputs": [],
   "source": []
  },
  {
   "cell_type": "code",
   "execution_count": 3,
   "metadata": {},
   "outputs": [
    {
     "name": "stdout",
     "output_type": "stream",
     "text": [
      "5\n",
      "A\n",
      "BB\n",
      "CCC\n",
      "DDDD\n",
      "EEEEE\n"
     ]
    }
   ],
   "source": [
    "n=int(input())\n",
    "i=1\n",
    "while i<=n:\n",
    "    j=1\n",
    "    s=chr(ord('A')+i-1)\n",
    "    while j<=i:\n",
    "        print(chr(ord(s)),end='')\n",
    "        j=j+1\n",
    "    print()\n",
    "    i=i+1"
   ]
  },
  {
   "cell_type": "code",
   "execution_count": null,
   "metadata": {},
   "outputs": [],
   "source": []
  },
  {
   "cell_type": "code",
   "execution_count": 6,
   "metadata": {},
   "outputs": [
    {
     "name": "stdout",
     "output_type": "stream",
     "text": [
      "5\n",
      "E\n",
      "DE\n",
      "CDE\n",
      "BCDE\n",
      "ABCDE\n"
     ]
    }
   ],
   "source": [
    "n=int(input())\n",
    "i=1\n",
    "while i<=n:\n",
    "    j=1\n",
    "    s=chr(ord('A')+n-i)\n",
    "    while j<=i:\n",
    "        print(chr(ord(s)+j-1),end='')\n",
    "        j=j+1\n",
    "    print()\n",
    "    i=i+1\n",
    "i=1"
   ]
  },
  {
   "cell_type": "code",
   "execution_count": null,
   "metadata": {},
   "outputs": [],
   "source": []
  },
  {
   "cell_type": "code",
   "execution_count": 8,
   "metadata": {},
   "outputs": [
    {
     "name": "stdout",
     "output_type": "stream",
     "text": [
      "5\n",
      "55555\n",
      "4444\n",
      "333\n",
      "22\n",
      "1\n"
     ]
    }
   ],
   "source": [
    "n = int(input())\n",
    "i = 1\n",
    "while i <= n:\n",
    "    j = 1\n",
    "    while j <= n - i + 1:   #remember this for inverted\n",
    "        print(n - i + 1,end = '')\n",
    "        j = j + 1\n",
    "    print()\n",
    "    i = i + 1"
   ]
  },
  {
   "cell_type": "code",
   "execution_count": null,
   "metadata": {},
   "outputs": [],
   "source": []
  },
  {
   "cell_type": "code",
   "execution_count": 9,
   "metadata": {},
   "outputs": [
    {
     "name": "stdout",
     "output_type": "stream",
     "text": [
      "5\n",
      "    1\n",
      "   12\n",
      "  123\n",
      " 1234\n",
      "12345\n"
     ]
    }
   ],
   "source": [
    "n = int(input())\n",
    "i = 1\n",
    "while i <= n:\n",
    "    spaces = 1\n",
    "    while spaces <= n - i:\n",
    "        print(\" \", end = '')\n",
    "        spaces = spaces + 1\n",
    "    j = 1\n",
    "    while j <= i:\n",
    "        print(j,end='')\n",
    "        j = j + 1\n",
    "    print()\n",
    "    i = i + 1"
   ]
  },
  {
   "cell_type": "code",
   "execution_count": null,
   "metadata": {},
   "outputs": [],
   "source": []
  },
  {
   "cell_type": "code",
   "execution_count": 10,
   "metadata": {},
   "outputs": [
    {
     "name": "stdout",
     "output_type": "stream",
     "text": [
      "5\n",
      "    1\n",
      "   121\n",
      "  12321\n",
      " 1234321\n",
      "123454321\n"
     ]
    }
   ],
   "source": [
    "n = int(input())\n",
    "i = 1\n",
    "while i <= n:\n",
    "    spaces = 1\n",
    "    while spaces <= n - i:\n",
    "        print(\" \", end = '')\n",
    "        spaces = spaces + 1\n",
    "    p = 1\n",
    "    j = 1\n",
    "    while j <= i:\n",
    "        print(p,end='')\n",
    "        j = j + 1\n",
    "        p = p + 1\n",
    "    p = i - 1\n",
    "    while p >= 1:\n",
    "        print(p,end='')\n",
    "        p = p - 1\n",
    "    print()\n",
    "    i = i + 1"
   ]
  },
  {
   "cell_type": "code",
   "execution_count": null,
   "metadata": {},
   "outputs": [],
   "source": []
  },
  {
   "cell_type": "code",
   "execution_count": 11,
   "metadata": {},
   "outputs": [
    {
     "name": "stdout",
     "output_type": "stream",
     "text": [
      "5\n",
      "    1\n",
      "   232\n",
      "  34543\n",
      " 4567654\n",
      "567898765\n"
     ]
    }
   ],
   "source": [
    "n = int(input())\n",
    "num = 1\n",
    "gap = n - 1\n",
    "for j in range(1, n + 1) : \n",
    "    num = j \n",
    "    for i in range(1, gap + 1) : \n",
    "        print(\" \", end=\"\") \n",
    "    gap = gap - 1\n",
    "          \n",
    "    for i in range(1, j + 1) : \n",
    "        print(num, end=\"\") \n",
    "        num = num + 1\n",
    "      \n",
    "    num = num - 2\n",
    "    for i in range(1, j) : \n",
    "        print(num, end=\"\") \n",
    "        num = num - 1\n",
    "      \n",
    "    print() "
   ]
  },
  {
   "cell_type": "code",
   "execution_count": null,
   "metadata": {},
   "outputs": [],
   "source": []
  },
  {
   "cell_type": "code",
   "execution_count": 12,
   "metadata": {},
   "outputs": [
    {
     "name": "stdout",
     "output_type": "stream",
     "text": [
      "5\n",
      "1        1\n",
      "12      21\n",
      "123    321\n",
      "1234  4321\n",
      "1234554321\n"
     ]
    }
   ],
   "source": [
    "n=int(input())\n",
    "i=1\n",
    "while i <= n:\n",
    "    j=1\n",
    "    while j<=i:\n",
    "        print(j,end='')\n",
    "        j+=1\n",
    "\n",
    "    k=n-1\n",
    "    while k>=i:\n",
    "        print(\" \",end='')\n",
    "        k-=1\n",
    "\n",
    "    l=n\n",
    "    while l>=i+1:\n",
    "        print(\" \",end='')\n",
    "        l-=1\n",
    "\n",
    "    m=1\n",
    "    while m<=i:\n",
    "        print(i-m+1,end='')\n",
    "        m+=1\n",
    "\n",
    "    print()\n",
    "    i+=1"
   ]
  },
  {
   "cell_type": "code",
   "execution_count": null,
   "metadata": {},
   "outputs": [],
   "source": []
  },
  {
   "cell_type": "code",
   "execution_count": 13,
   "metadata": {},
   "outputs": [
    {
     "name": "stdout",
     "output_type": "stream",
     "text": [
      "5\n",
      "555555555\n",
      "544444445\n",
      "543333345\n",
      "543222345\n",
      "543212345\n",
      "543222345\n",
      "543333345\n",
      "544444445\n",
      "555555555\n"
     ]
    }
   ],
   "source": [
    "MAX = 100\n",
    "  \n",
    "# function to Print pattern  \n",
    "def prints(a, size):  \n",
    "    for i in range(size):  \n",
    "        for j in range(size): \n",
    "            print(a[i][j], end = '') \n",
    "        print() \n",
    "  \n",
    "# function to compute pattern  \n",
    "def innerPattern(n):  \n",
    "      \n",
    "    # Pattern Size  \n",
    "    size = 2 * n - 1\n",
    "    front = 0\n",
    "    back = size - 1\n",
    "    a = [[0 for i in range(MAX)]   \n",
    "            for i in range(MAX)] \n",
    "    while (n != 0):  \n",
    "        for i in range(front, back + 1): \n",
    "            for j in range(front, back + 1): \n",
    "                if (i == front or i == back or\n",
    "                    j == front or j == back): \n",
    "                    a[i][j] = n \n",
    "        front += 1\n",
    "        back -= 1\n",
    "        n -= 1\n",
    "    prints(a, size);  \n",
    "  \n",
    "# Driver code  \n",
    "  \n",
    "# Input  \n",
    "n = int(input())\n",
    "innerPattern(n) "
   ]
  },
  {
   "cell_type": "code",
   "execution_count": null,
   "metadata": {},
   "outputs": [],
   "source": []
  },
  {
   "cell_type": "code",
   "execution_count": 14,
   "metadata": {},
   "outputs": [
    {
     "name": "stdout",
     "output_type": "stream",
     "text": [
      "5\n",
      "1\n",
      "01\n",
      "001\n",
      "0001\n",
      "00001\n"
     ]
    }
   ],
   "source": [
    "def modifiedBinaryPattern(n): \n",
    "      \n",
    "    # Loop to traverse the rows \n",
    "    for i in range(1, n + 1, 1): \n",
    "  \n",
    "        # Loop to traverse the \n",
    "        # numbers in each row \n",
    "        for j in range(1, i + 1, 1): \n",
    "              \n",
    "            # Check if j is 1 or i \n",
    "            # In either case print 1 \n",
    "            if (j == i): \n",
    "                print(1, end = \"\") \n",
    "  \n",
    "            # Else print 0 \n",
    "            else: \n",
    "                print(0, end = \"\") \n",
    "  \n",
    "        # Change the cursor to next \n",
    "        # line after each row \n",
    "        print('\\n', end = \"\") \n",
    "  \n",
    "# Driver Code \n",
    "if __name__ == '__main__': \n",
    "      \n",
    "    n = int(input())\n",
    "      \n",
    "    # Function Call \n",
    "    modifiedBinaryPattern(n)"
   ]
  },
  {
   "cell_type": "code",
   "execution_count": null,
   "metadata": {},
   "outputs": [],
   "source": []
  },
  {
   "cell_type": "code",
   "execution_count": 15,
   "metadata": {},
   "outputs": [
    {
     "name": "stdout",
     "output_type": "stream",
     "text": [
      "5\n",
      "1 2 3 4 5 \n",
      "11 12 13 14 15 \n",
      "21 22 23 24 25 \n",
      "16 17 18 19 20 \n",
      "6 7 8 9 10 \n"
     ]
    }
   ],
   "source": [
    "n = int(input())\n",
    "h = 0\n",
    "d = int(n/2)+1\n",
    "for r in range(0, n):\n",
    "    s=''\n",
    "    for c in range(1, n+1):\n",
    "        if r<d:\n",
    "            h = r*2\n",
    "        elif r==d:\n",
    "            h = d\n",
    "        else:\n",
    "            h = int(d/3)\n",
    "        s+=str(h*n+c) + ' '\n",
    "    print(s)"
   ]
  },
  {
   "cell_type": "code",
   "execution_count": null,
   "metadata": {},
   "outputs": [],
   "source": []
  },
  {
   "cell_type": "code",
   "execution_count": 19,
   "metadata": {},
   "outputs": [
    {
     "name": "stdout",
     "output_type": "stream",
     "text": [
      "5\n",
      "    *\n",
      "   ***\n",
      "  *****\n",
      " *******\n",
      "*********\n"
     ]
    }
   ],
   "source": [
    "n = int(input())\n",
    "for i in range(n, 0, -1):\n",
    "    for j in range(i, 1, -1):\n",
    "        print(\" \",end=\"\")\n",
    "    for k in range(i, n+1):\n",
    "        print(\"*\",end=\"\")\n",
    "    for m in range(i, n, 1):\n",
    "        print(\"*\",end=\"\")\n",
    "    print()"
   ]
  },
  {
   "cell_type": "code",
   "execution_count": null,
   "metadata": {},
   "outputs": [],
   "source": []
  },
  {
   "cell_type": "code",
   "execution_count": 16,
   "metadata": {},
   "outputs": [
    {
     "name": "stdout",
     "output_type": "stream",
     "text": [
      "5\n",
      "  *\n",
      " ***\n",
      "*****\n",
      " ***\n",
      "  *\n"
     ]
    }
   ],
   "source": [
    "def pattern12(n):\n",
    "    for i in range(n):\n",
    "        if i<n//2:\n",
    "            for j in range(n//2-i):\n",
    "                print(' ',end='')\n",
    "            for k in range(2*i+1):\n",
    "                print('*',end='')\n",
    "            print()\n",
    "        elif i == n//2:\n",
    "            for j in range(n):\n",
    "                print('*',end='')\n",
    "            print()\n",
    "        else:\n",
    "            for j in range(i-n//2):\n",
    "                print(' ',end='')\n",
    "            for k in range((n-i)*2-1):\n",
    "                print('*',end='')\n",
    "            print()\n",
    "        \n",
    "num = int(input())\n",
    "pattern12(num)\n",
    "                "
   ]
  },
  {
   "cell_type": "code",
   "execution_count": null,
   "metadata": {},
   "outputs": [],
   "source": []
  },
  {
   "cell_type": "code",
   "execution_count": 17,
   "metadata": {},
   "outputs": [
    {
     "name": "stdout",
     "output_type": "stream",
     "text": [
      "5\n",
      "* \n",
      " * * \n",
      "  * * * \n",
      " * * \n",
      "* \n"
     ]
    }
   ],
   "source": [
    "n=int(input())\n",
    "\n",
    "n1= (n+1)/2\n",
    "n2= n1 - 1\n",
    "\n",
    "i=1\n",
    "h=1\n",
    "\n",
    "while i <= n1:\n",
    "    s=2\n",
    "    while s<= i:\n",
    "        print(\" \",end='')\n",
    "        s+=1\n",
    "\n",
    "    j=1\n",
    "    while j<=i:\n",
    "        print(\"* \",end='')\n",
    "        j+=1\n",
    "\n",
    "    print()\n",
    "    i+=1\n",
    "\n",
    "while h <= n2:\n",
    "    s = n2-1\n",
    "    while s>=h:\n",
    "        print(\" \",end='')\n",
    "        s-=1\n",
    "\n",
    "    j = n2\n",
    "    while j>=h:\n",
    "        print(\"* \",end='')\n",
    "        j-=1\n",
    "\n",
    "    print()\n",
    "    h+=1"
   ]
  },
  {
   "cell_type": "code",
   "execution_count": null,
   "metadata": {},
   "outputs": [],
   "source": []
  },
  {
   "cell_type": "code",
   "execution_count": 18,
   "metadata": {},
   "outputs": [
    {
     "name": "stdout",
     "output_type": "stream",
     "text": [
      "5\n",
      "\n",
      " *\n",
      "  **\n",
      "   ***\n",
      "    ****\n",
      "   ***\n",
      "  **\n",
      " *\n",
      "\n"
     ]
    }
   ],
   "source": [
    "def print_arrow(n): \n",
    "  \n",
    "    # Total no of rows  \n",
    "    for i in range(n + n - 1): \n",
    "        size = i \n",
    "        if i >= n: \n",
    "            size = n + n - i - 2\n",
    "  \n",
    "        # cols in each row  \n",
    "        for j in range(size + size): \n",
    "            if j < size:     # For printing space  \n",
    "                print(' ', end = '') \n",
    "            else:         # For printing * \n",
    "                print('*', end = '') \n",
    "        print() \n",
    "  \n",
    "# Driver code  \n",
    "  \n",
    "# taking input from user  \n",
    "n = int(input())\n",
    "  \n",
    "# function calling \n",
    "print_arrow(n) "
   ]
  },
  {
   "cell_type": "code",
   "execution_count": null,
   "metadata": {},
   "outputs": [],
   "source": []
  },
  {
   "cell_type": "code",
   "execution_count": null,
   "metadata": {},
   "outputs": [],
   "source": []
  }
 ],
 "metadata": {
  "kernelspec": {
   "display_name": "Python 3",
   "language": "python",
   "name": "python3"
  },
  "language_info": {
   "codemirror_mode": {
    "name": "ipython",
    "version": 3
   },
   "file_extension": ".py",
   "mimetype": "text/x-python",
   "name": "python",
   "nbconvert_exporter": "python",
   "pygments_lexer": "ipython3",
   "version": "3.8.5"
  }
 },
 "nbformat": 4,
 "nbformat_minor": 4
}
